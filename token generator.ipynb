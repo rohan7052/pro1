{
 "cells": [
  {
   "cell_type": "markdown",
   "metadata": {},
   "source": [
    "#  TEMPRARY TOKEN GENERATOR"
   ]
  },
  {
   "cell_type": "code",
   "execution_count": 95,
   "metadata": {},
   "outputs": [],
   "source": [
    "from simple_colors import *"
   ]
  },
  {
   "cell_type": "code",
   "execution_count": 71,
   "metadata": {},
   "outputs": [],
   "source": [
    "def passc(f,l,p,n):\n",
    "    def letter(fname,lname):\n",
    "        if len(fname)>len(lname):\n",
    "            s=lname[len(lname)-1]\n",
    "        elif fname[0]==lname[0]:\n",
    "            if fname[len(fname)-2]>lname[len(lname)-2]:\n",
    "                s=lname[len(lname)-1]\n",
    "            else :\n",
    "                s=fname[len(fname)-1]\n",
    "        elif len(fname)==len(lname):\n",
    "            if fname[0]>lname[0]:\n",
    "                s=lname[len(lname)-1]\n",
    "            else:\n",
    "                s=fname[len(fname)-1]\n",
    "\n",
    "        else:\n",
    "                s=fname[len(fname)-1]\n",
    "        if s==fname[-1]:\n",
    "            return s+lname\n",
    "        else:\n",
    "            return s+fname\n",
    "   \n",
    "    def num(p,n):\n",
    "        l=list(str(p))\n",
    "        return l[n-1],l[-n]\n",
    "    \n",
    "    \n",
    "    return (letter(f,l).swapcase()+num(p,n)[0]+num(p,n)[1])"
   ]
  },
  {
   "cell_type": "code",
   "execution_count": 104,
   "metadata": {},
   "outputs": [
    {
     "name": "stdout",
     "output_type": "stream",
     "text": [
      "Enter your first name : Rajiv\n",
      "Enter your last name : Roy\n",
      "Enter your Pin : 560037\n",
      "Choose any number between(1-6) : 6\n",
      "\u001b[1;31m\n",
      " Token generated : \u001b[0m \u001b[1;30mYrAJIV75\u001b[0m\n"
     ]
    }
   ],
   "source": [
    "f=input('Enter your first name : ')\n",
    "l=input('Enter your last name : ')\n",
    "p=int(input('Enter your Pin : '))\n",
    "n=int(input('Choose any number between(1-6) : '))\n",
    "print(red('\\n Token generated : ',['bold']),black(passc(f,l,p,n),['bold']))"
   ]
  },
  {
   "cell_type": "code",
   "execution_count": null,
   "metadata": {},
   "outputs": [],
   "source": []
  }
 ],
 "metadata": {
  "kernelspec": {
   "display_name": "Python 3",
   "language": "python",
   "name": "python3"
  },
  "language_info": {
   "codemirror_mode": {
    "name": "ipython",
    "version": 3
   },
   "file_extension": ".py",
   "mimetype": "text/x-python",
   "name": "python",
   "nbconvert_exporter": "python",
   "pygments_lexer": "ipython3",
   "version": "3.8.5"
  }
 },
 "nbformat": 4,
 "nbformat_minor": 4
}
